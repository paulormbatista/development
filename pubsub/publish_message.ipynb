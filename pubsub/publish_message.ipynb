{
 "cells": [
  {
   "cell_type": "code",
   "execution_count": null,
   "metadata": {},
   "outputs": [],
   "source": [
    "from google.cloud import pubsub_v1\n",
    "\n",
    "# TODO(developer)\n",
    "# project_id = \"your-project-id\"\n",
    "# topic_id = \"your-topic-id\"\n",
    "\n",
    "publisher = pubsub_v1.PublisherClient()\n",
    "# The `topic_path` method creates a fully qualified identifier\n",
    "# in the form `projects/{project_id}/topics/{topic_id}`\n",
    "topic_path = publisher.topic_path(project_id, topic_id)\n",
    "\n",
    "for n in range(1, 10):\n",
    "    data_str = f\"Message number {n}\"\n",
    "    # Data must be a bytestring\n",
    "    data = data_str.encode(\"utf-8\")\n",
    "    # When you publish a message, the client returns a future.\n",
    "    future = publisher.publish(topic_path, data)\n",
    "    print(future.result())\n",
    "\n",
    "print(f\"Published messages to {topic_path}.\")"
   ]
  }
 ],
 "metadata": {
  "language_info": {
   "name": "python"
  }
 },
 "nbformat": 4,
 "nbformat_minor": 2
}
